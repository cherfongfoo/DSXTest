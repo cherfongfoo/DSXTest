{
    "metadata": {
        "language_info": {
            "file_extension": ".py", 
            "nbconvert_exporter": "python", 
            "mimetype": "text/x-python", 
            "version": "3.5.2", 
            "pygments_lexer": "ipython3", 
            "codemirror_mode": {
                "name": "ipython", 
                "version": 3
            }, 
            "name": "python"
        }, 
        "kernelspec": {
            "name": "python3-spark21", 
            "language": "python", 
            "display_name": "Python 3.5 (Experimental) with Spark 2.1"
        }
    }, 
    "nbformat": 4, 
    "nbformat_minor": 1, 
    "cells": [
        {
            "source": "Welcome, basic evaluation of the IDM DSX. Python and pySpark.", 
            "metadata": {
                "collapsed": true
            }, 
            "cell_type": "markdown"
        }, 
        {
            "execution_count": 8, 
            "source": "import pandas as pd\nimport numpy as np\n\ndates = pd.date_range('20130101', periods=6)\nprint(dates)\ndf = pd.DataFrame(np.random.randn(6,4), index=dates, columns=list('ABCD'))\nprint(df)", 
            "metadata": {}, 
            "outputs": [
                {
                    "name": "stdout", 
                    "output_type": "stream", 
                    "text": "DatetimeIndex(['2013-01-01', '2013-01-02', '2013-01-03', '2013-01-04',\n               '2013-01-05', '2013-01-06'],\n              dtype='datetime64[ns]', freq='D')\n                   A         B         C         D\n2013-01-01 -0.969641  0.703815 -0.107167 -1.191845\n2013-01-02  0.162265 -0.313313 -0.396167 -0.925768\n2013-01-03 -1.237712  1.355064  0.511483  0.084467\n2013-01-04 -1.936008  0.277366  0.163090 -0.265451\n2013-01-05  1.920762  1.091465  0.213553 -0.364380\n2013-01-06  0.407111  1.362769  0.910637  0.377643\n"
                }
            ], 
            "cell_type": "code"
        }, 
        {
            "execution_count": 10, 
            "source": "# The code was removed by DSX for sharing.", 
            "metadata": {}, 
            "outputs": [
                {
                    "output_type": "execute_result", 
                    "metadata": {}, 
                    "execution_count": 10, 
                    "data": {
                        "text/plain": "   1   Eldon Base for stackable storage shelf, platinum Muhammed MacIntyre  \\\n0  2  1.7 Cubic Foot Compact \"Cube\" Office Refrigera...       Barry French   \n1  3   Cardinal Slant-D\ufffd Ring Binder, Heavy Gauge Vinyl       Barry French   \n2  4                                               R380      Clay Rozendal   \n3  5                           Holmes HEPA Air Purifier     Carlos Soltero   \n4  6  G.E. Longer-Life Indoor Recessed Floodlight Bulbs     Carlos Soltero   \n\n     3  -213.25   38.94     35  Nunavut          Storage & Organization   0.8  \n0  293   457.81  208.16  68.02  Nunavut                      Appliances  0.58  \n1  293    46.71    8.69   2.99  Nunavut  Binders and Binder Accessories  0.39  \n2  483  1198.97  195.99   3.99  Nunavut    Telephones and Communication  0.58  \n3  515    30.94   21.78   5.94  Nunavut                      Appliances  0.50  \n4  515     4.43    6.64   4.95  Nunavut              Office Furnishings  0.37  ", 
                        "text/html": "<div>\n<table border=\"1\" class=\"dataframe\">\n  <thead>\n    <tr style=\"text-align: right;\">\n      <th></th>\n      <th>1</th>\n      <th>Eldon Base for stackable storage shelf, platinum</th>\n      <th>Muhammed MacIntyre</th>\n      <th>3</th>\n      <th>-213.25</th>\n      <th>38.94</th>\n      <th>35</th>\n      <th>Nunavut</th>\n      <th>Storage &amp; Organization</th>\n      <th>0.8</th>\n    </tr>\n  </thead>\n  <tbody>\n    <tr>\n      <th>0</th>\n      <td>2</td>\n      <td>1.7 Cubic Foot Compact \"Cube\" Office Refrigera...</td>\n      <td>Barry French</td>\n      <td>293</td>\n      <td>457.81</td>\n      <td>208.16</td>\n      <td>68.02</td>\n      <td>Nunavut</td>\n      <td>Appliances</td>\n      <td>0.58</td>\n    </tr>\n    <tr>\n      <th>1</th>\n      <td>3</td>\n      <td>Cardinal Slant-D\ufffd Ring Binder, Heavy Gauge Vinyl</td>\n      <td>Barry French</td>\n      <td>293</td>\n      <td>46.71</td>\n      <td>8.69</td>\n      <td>2.99</td>\n      <td>Nunavut</td>\n      <td>Binders and Binder Accessories</td>\n      <td>0.39</td>\n    </tr>\n    <tr>\n      <th>2</th>\n      <td>4</td>\n      <td>R380</td>\n      <td>Clay Rozendal</td>\n      <td>483</td>\n      <td>1198.97</td>\n      <td>195.99</td>\n      <td>3.99</td>\n      <td>Nunavut</td>\n      <td>Telephones and Communication</td>\n      <td>0.58</td>\n    </tr>\n    <tr>\n      <th>3</th>\n      <td>5</td>\n      <td>Holmes HEPA Air Purifier</td>\n      <td>Carlos Soltero</td>\n      <td>515</td>\n      <td>30.94</td>\n      <td>21.78</td>\n      <td>5.94</td>\n      <td>Nunavut</td>\n      <td>Appliances</td>\n      <td>0.50</td>\n    </tr>\n    <tr>\n      <th>4</th>\n      <td>6</td>\n      <td>G.E. Longer-Life Indoor Recessed Floodlight Bulbs</td>\n      <td>Carlos Soltero</td>\n      <td>515</td>\n      <td>4.43</td>\n      <td>6.64</td>\n      <td>4.95</td>\n      <td>Nunavut</td>\n      <td>Office Furnishings</td>\n      <td>0.37</td>\n    </tr>\n  </tbody>\n</table>\n</div>"
                    }
                }
            ], 
            "cell_type": "code"
        }, 
        {
            "execution_count": 13, 
            "source": "# The code was removed by DSX for sharing.", 
            "metadata": {}, 
            "outputs": [
                {
                    "output_type": "execute_result", 
                    "metadata": {}, 
                    "execution_count": 13, 
                    "data": {
                        "text/plain": "[Row(1='2', Eldon Base for stackable storage shelf, platinum='\"1.7 Cubic Foot Compact \"\"Cube\"\" Office Refrigerators\"', Muhammed MacIntyre='Barry French', 3='293', -213.25='457.81', 38.94='208.16', 35='68.02', Nunavut='Nunavut', Storage & Organization='Appliances', 0.8='0.58'),\n Row(1='3', Eldon Base for stackable storage shelf, platinum='Cardinal Slant-D\ufffd Ring Binder, Heavy Gauge Vinyl', Muhammed MacIntyre='Barry French', 3='293', -213.25='46.71', 38.94='8.69', 35='2.99', Nunavut='Nunavut', Storage & Organization='Binders and Binder Accessories', 0.8='0.39'),\n Row(1='4', Eldon Base for stackable storage shelf, platinum='R380', Muhammed MacIntyre='Clay Rozendal', 3='483', -213.25='1198.97', 38.94='195.99', 35='3.99', Nunavut='Nunavut', Storage & Organization='Telephones and Communication', 0.8='0.58'),\n Row(1='5', Eldon Base for stackable storage shelf, platinum='Holmes HEPA Air Purifier', Muhammed MacIntyre='Carlos Soltero', 3='515', -213.25='30.94', 38.94='21.78', 35='5.94', Nunavut='Nunavut', Storage & Organization='Appliances', 0.8='0.5'),\n Row(1='6', Eldon Base for stackable storage shelf, platinum='G.E. Longer-Life Indoor Recessed Floodlight Bulbs', Muhammed MacIntyre='Carlos Soltero', 3='515', -213.25='4.43', 38.94='6.64', 35='4.95', Nunavut='Nunavut', Storage & Organization='Office Furnishings', 0.8='0.37')]"
                    }
                }
            ], 
            "cell_type": "code"
        }, 
        {
            "execution_count": 32, 
            "source": "df_data_2.printSchema()", 
            "metadata": {}, 
            "outputs": [
                {
                    "name": "stdout", 
                    "output_type": "stream", 
                    "text": "root\n |-- 1: string (nullable = true)\n |-- Eldon Base for stackable storage shelf, platinum: string (nullable = true)\n |-- Muhammed MacIntyre: string (nullable = true)\n |-- 3: string (nullable = true)\n |-- -213.25: string (nullable = true)\n |-- 38.94: string (nullable = true)\n |-- 35: string (nullable = true)\n |-- Nunavut: string (nullable = true)\n |-- Storage & Organization: string (nullable = true)\n |-- 0.8: string (nullable = true)\n\n"
                }
            ], 
            "cell_type": "code"
        }, 
        {
            "execution_count": 45, 
            "source": "oldSchema = df_data_2.schema\noldSchema[0].name = \"ID\"\nprint(oldSchema[0])\n", 
            "metadata": {}, 
            "outputs": [
                {
                    "name": "stdout", 
                    "output_type": "stream", 
                    "text": "StructField(ID,StringType,true)\n"
                }
            ], 
            "cell_type": "code"
        }, 
        {
            "execution_count": 53, 
            "source": "df_data_2.count()", 
            "metadata": {}, 
            "outputs": [
                {
                    "output_type": "execute_result", 
                    "metadata": {}, 
                    "execution_count": 53, 
                    "data": {
                        "text/plain": "99"
                    }
                }
            ], 
            "cell_type": "code"
        }, 
        {
            "execution_count": 55, 
            "source": "!pip install --user prettyplotlib", 
            "metadata": {}, 
            "outputs": [
                {
                    "name": "stdout", 
                    "output_type": "stream", 
                    "text": "Collecting prettyplotlib\n  Downloading prettyplotlib-0.1.7.tar.gz (697kB)\n\u001b[K    100% |\u2588\u2588\u2588\u2588\u2588\u2588\u2588\u2588\u2588\u2588\u2588\u2588\u2588\u2588\u2588\u2588\u2588\u2588\u2588\u2588\u2588\u2588\u2588\u2588\u2588\u2588\u2588\u2588\u2588\u2588\u2588\u2588| 706kB 1.7MB/s eta 0:00:01   14% |\u2588\u2588\u2588\u2588\u258a                           | 102kB 41.1MB/s eta 0:00:01\n\u001b[?25hRequirement already satisfied (use --upgrade to upgrade): matplotlib>=1.2.1 in /usr/local/src/conda3_runtime.v22/4.1.1/lib/python3.5/site-packages (from prettyplotlib)\nCollecting brewer2mpl>=1.3.1 (from prettyplotlib)\n  Downloading brewer2mpl-1.4.1-py2.py3-none-any.whl\nRequirement already satisfied (use --upgrade to upgrade): numpy>=1.6 in /usr/local/src/conda3_runtime.v22/4.1.1/lib/python3.5/site-packages (from matplotlib>=1.2.1->prettyplotlib)\nRequirement already satisfied (use --upgrade to upgrade): python-dateutil in /usr/local/src/conda3_runtime.v22/4.1.1/lib/python3.5/site-packages (from matplotlib>=1.2.1->prettyplotlib)\nRequirement already satisfied (use --upgrade to upgrade): pytz in /usr/local/src/conda3_runtime.v22/4.1.1/lib/python3.5/site-packages (from matplotlib>=1.2.1->prettyplotlib)\nRequirement already satisfied (use --upgrade to upgrade): cycler in /usr/local/src/conda3_runtime.v22/4.1.1/lib/python3.5/site-packages (from matplotlib>=1.2.1->prettyplotlib)\nRequirement already satisfied (use --upgrade to upgrade): pyparsing!=2.0.4,>=1.5.6 in /usr/local/src/conda3_runtime.v22/4.1.1/lib/python3.5/site-packages (from matplotlib>=1.2.1->prettyplotlib)\nRequirement already satisfied (use --upgrade to upgrade): six>=1.5 in /usr/local/src/conda3_runtime.v22/4.1.1/lib/python3.5/site-packages (from python-dateutil->matplotlib>=1.2.1->prettyplotlib)\nBuilding wheels for collected packages: prettyplotlib\n  Running setup.py bdist_wheel for prettyplotlib ... \u001b[?25ldone\n\u001b[?25h  Stored in directory: /gpfs/fs01/user/s817-86c33f9f4ead34-08939d7f4a04/.cache/pip/wheels/90/d9/9b/250de9b2ae1e874d5332e7f183c9e72e1ea172daea282d3eaa\nSuccessfully built prettyplotlib\nInstalling collected packages: brewer2mpl, prettyplotlib\nSuccessfully installed brewer2mpl-1.4.1 prettyplotlib-0.1.7\n"
                }
            ], 
            "cell_type": "code"
        }
    ]
}